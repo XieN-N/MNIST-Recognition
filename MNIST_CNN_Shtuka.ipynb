{
  "cells": [
    {
      "cell_type": "markdown",
      "metadata": {
        "id": "view-in-github",
        "colab_type": "text"
      },
      "source": [
        "<a href=\"https://colab.research.google.com/github/XieN-N/MNIST-Recognition/blob/main/MNIST_CNN_Shtuka.ipynb\" target=\"_parent\"><img src=\"https://colab.research.google.com/assets/colab-badge.svg\" alt=\"Open In Colab\"/></a>"
      ]
    },
    {
      "cell_type": "code",
      "execution_count": null,
      "id": "3bf0e796",
      "metadata": {
        "id": "3bf0e796"
      },
      "outputs": [],
      "source": [
        "import numpy as np\n",
        "import matplotlib.pyplot as plt\n",
        "from tensorflow import keras\n",
        "from tensorflow.keras.datasets import mnist\n",
        "from tensorflow.keras.layers import Dense, MaxPooling2D, Conv2D, Input, Flatten\n",
        "\n",
        "from PIL import Image, ImageOps"
      ]
    },
    {
      "cell_type": "code",
      "execution_count": null,
      "id": "44de1218",
      "metadata": {
        "id": "44de1218"
      },
      "outputs": [],
      "source": [
        "(x_train, y_train), (x_test, y_test) = mnist.load_data()"
      ]
    },
    {
      "cell_type": "code",
      "execution_count": null,
      "id": "a2b6f46e",
      "metadata": {
        "id": "a2b6f46e",
        "outputId": "227fb75c-f70f-4c67-bf48-a43eadc1f87e"
      },
      "outputs": [
        {
          "data": {
            "text/plain": [
              "((60000, 28, 28, 1), (60000, 10))"
            ]
          },
          "execution_count": 5,
          "metadata": {},
          "output_type": "execute_result"
        }
      ],
      "source": [
        "x_train = x_train / 255\n",
        "x_test = x_test / 255\n",
        "\n",
        "y_train_cat = keras.utils.to_categorical(y_train, 10)\n",
        "y_test_cat = keras.utils.to_categorical(y_test, 10)\n",
        "\n",
        "x_train = np.expand_dims(x_train, axis=3)\n",
        "x_test = np.expand_dims(x_test, axis=3)\n",
        "\n",
        "x_train.shape, y_train_cat.shape"
      ]
    },
    {
      "cell_type": "code",
      "execution_count": null,
      "id": "1659c90a",
      "metadata": {
        "id": "1659c90a"
      },
      "outputs": [],
      "source": [
        "model = keras.Sequential([\n",
        "    Input((28, 28, 1)),\n",
        "    Conv2D(32, (3,3), padding='same', activation='relu'),\n",
        "    MaxPooling2D((2,2), strides=2),\n",
        "    Conv2D(64, (3,3), padding='same', activation='relu'),\n",
        "    MaxPooling2D((2,2), strides=2),\n",
        "    Flatten(),\n",
        "    Dense(128, activation='relu'),\n",
        "    Dense(10, activation='softmax')\n",
        "])\n",
        "model.compile(optimizer='adam',\n",
        "             loss='categorical_crossentropy',\n",
        "             metrics=['accuracy'])"
      ]
    },
    {
      "cell_type": "code",
      "execution_count": null,
      "id": "f3b87bd9",
      "metadata": {
        "id": "f3b87bd9",
        "outputId": "0175857c-6142-4968-d5be-0deb5532dc45"
      },
      "outputs": [
        {
          "name": "stdout",
          "output_type": "stream",
          "text": [
            "Epoch 1/5\n",
            "\u001b[1m1500/1500\u001b[0m \u001b[32m━━━━━━━━━━━━━━━━━━━━\u001b[0m\u001b[37m\u001b[0m \u001b[1m13s\u001b[0m 7ms/step - accuracy: 0.9043 - loss: 0.3050 - val_accuracy: 0.9844 - val_loss: 0.0555\n",
            "Epoch 2/5\n",
            "\u001b[1m1500/1500\u001b[0m \u001b[32m━━━━━━━━━━━━━━━━━━━━\u001b[0m\u001b[37m\u001b[0m \u001b[1m11s\u001b[0m 7ms/step - accuracy: 0.9841 - loss: 0.0495 - val_accuracy: 0.9837 - val_loss: 0.0552\n",
            "Epoch 3/5\n",
            "\u001b[1m1500/1500\u001b[0m \u001b[32m━━━━━━━━━━━━━━━━━━━━\u001b[0m\u001b[37m\u001b[0m \u001b[1m11s\u001b[0m 7ms/step - accuracy: 0.9898 - loss: 0.0319 - val_accuracy: 0.9874 - val_loss: 0.0459\n",
            "Epoch 4/5\n",
            "\u001b[1m1500/1500\u001b[0m \u001b[32m━━━━━━━━━━━━━━━━━━━━\u001b[0m\u001b[37m\u001b[0m \u001b[1m11s\u001b[0m 7ms/step - accuracy: 0.9933 - loss: 0.0201 - val_accuracy: 0.9886 - val_loss: 0.0432\n",
            "Epoch 5/5\n",
            "\u001b[1m1500/1500\u001b[0m \u001b[32m━━━━━━━━━━━━━━━━━━━━\u001b[0m\u001b[37m\u001b[0m \u001b[1m11s\u001b[0m 7ms/step - accuracy: 0.9947 - loss: 0.0139 - val_accuracy: 0.9898 - val_loss: 0.0379\n",
            "\u001b[1m313/313\u001b[0m \u001b[32m━━━━━━━━━━━━━━━━━━━━\u001b[0m\u001b[37m\u001b[0m \u001b[1m1s\u001b[0m 3ms/step - accuracy: 0.9875 - loss: 0.0353\n"
          ]
        },
        {
          "data": {
            "text/plain": [
              "[0.02712816558778286, 0.9908000230789185]"
            ]
          },
          "execution_count": 9,
          "metadata": {},
          "output_type": "execute_result"
        }
      ],
      "source": [
        "model.fit(x_train, y_train_cat, batch_size=32, epochs=5, validation_split=0.2)\n",
        "model.evaluate(x_test, y_test_cat)"
      ]
    },
    {
      "cell_type": "code",
      "execution_count": null,
      "id": "115f243b",
      "metadata": {
        "id": "115f243b"
      },
      "outputs": [],
      "source": [
        "def black_white_check(img):\n",
        "    white_score = 0\n",
        "    black_score = 0\n",
        "\n",
        "    img_np = np.asarray(img)\n",
        "    img_np = img_np/255\n",
        "    img_np.shape\n",
        "    for i in range(28): # Если на вход поступает изображение чёрной цифры на белом фоне, то алгоритм инвертирует изображение, чтобы нейросеть могла нормально распознать цифру\n",
        "        for j in range(28): # Потому что в датасете MNIST из Keras белые цифры на чёрном фоне\n",
        "            if img_np[i,j] <= 0.5 and img_np[i,j] >=0:\n",
        "                black_score+=1\n",
        "            else:\n",
        "                white_score+=1\n",
        "\n",
        "    if black_score < white_score:\n",
        "        img_invert = ImageOps.invert(img)\n",
        "        img_np = np.asarray(img_invert)\n",
        "        img_np = img_np/255\n",
        "\n",
        "    print(f'Количество тёмных пикселей: {black_score}')\n",
        "    print(f'Количество cветлых пикселей: {white_score}')\n",
        "\n",
        "    return img_np"
      ]
    },
    {
      "cell_type": "code",
      "execution_count": null,
      "id": "cf03b908-f1c8-4511-b8c8-d44e4f141a17",
      "metadata": {
        "id": "cf03b908-f1c8-4511-b8c8-d44e4f141a17",
        "outputId": "3386d48f-c305-4cee-de26-100eb75ccefe"
      },
      "outputs": [
        {
          "name": "stdout",
          "output_type": "stream",
          "text": [
            "Количество тёмных пикселей: 17\n",
            "Количество cветлых пикселей: 767\n"
          ]
        }
      ],
      "source": [
        "img = Image.open('gray_seven.jpg').convert('L') # здесь использовано собственное изображение\n",
        "img = img.resize((28, 28))\n",
        "\n",
        "img_np = black_white_check(img)"
      ]
    },
    {
      "cell_type": "code",
      "execution_count": null,
      "id": "ec602e32",
      "metadata": {
        "id": "ec602e32",
        "outputId": "0a7102f1-3842-4ed8-fc30-d8dfe0780556"
      },
      "outputs": [
        {
          "name": "stdout",
          "output_type": "stream",
          "text": [
            "\u001b[1m1/1\u001b[0m \u001b[32m━━━━━━━━━━━━━━━━━━━━\u001b[0m\u001b[37m\u001b[0m \u001b[1m0s\u001b[0m 81ms/step\n",
            "[[5.88752446e-04 3.21004502e-02 9.22563151e-02 2.20557526e-01\n",
            "  9.83600039e-04 8.14140122e-03 2.21866136e-03 6.23082817e-01\n",
            "  8.58561974e-03 1.14848465e-02]]\n",
            "7\n"
          ]
        },
        {
          "data": {
            "image/png": "[encoded data removed]",
            "text/plain": [
              "<Figure size 640x480 with 1 Axes>"
            ]
          },
          "metadata": {},
          "output_type": "display_data"
        }
      ],
      "source": [
        "y = np.expand_dims(img_np, axis=0)\n",
        "res1 = model.predict(y)\n",
        "print( res1 )\n",
        "print( np.argmax(res1) )\n",
        "\n",
        "plt.imshow(img_np, cmap=plt.cm.binary)\n",
        "plt.show()"
      ]
    },
    {
      "cell_type": "code",
      "execution_count": null,
      "id": "0cb7bb46",
      "metadata": {
        "id": "0cb7bb46"
      },
      "outputs": [],
      "source": []
    }
  ],
  "metadata": {
    "kernelspec": {
      "display_name": "Python 3 (ipykernel)",
      "language": "python",
      "name": "python3"
    },
    "language_info": {
      "codemirror_mode": {
        "name": "ipython",
        "version": 3
      },
      "file_extension": ".py",
      "mimetype": "text/x-python",
      "name": "python",
      "nbconvert_exporter": "python",
      "pygments_lexer": "ipython3",
      "version": "3.10.9"
    },
    "colab": {
      "provenance": [],
      "include_colab_link": true
    }
  },
  "nbformat": 4,
  "nbformat_minor": 5
}